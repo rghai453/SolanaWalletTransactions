{
  "nbformat": 4,
  "nbformat_minor": 0,
  "metadata": {
    "colab": {
      "provenance": []
    },
    "kernelspec": {
      "name": "python3",
      "display_name": "Python 3"
    },
    "language_info": {
      "name": "python"
    }
  },
  "cells": [
    {
      "cell_type": "code",
      "execution_count": null,
      "metadata": {
        "colab": {
          "base_uri": "https://localhost:8080/"
        },
        "id": "7BF_NPyitAFz",
        "outputId": "2b45411d-1d3e-429b-d672-df5d2ea2483c"
      },
      "outputs": [
        {
          "output_type": "stream",
          "name": "stdout",
          "text": [
            "Requirement already satisfied: requests in /usr/local/lib/python3.10/dist-packages (2.31.0)\n",
            "Requirement already satisfied: boto3 in /usr/local/lib/python3.10/dist-packages (1.34.154)\n",
            "Requirement already satisfied: pyspark in /usr/local/lib/python3.10/dist-packages (3.5.1)\n",
            "Collecting schedule\n",
            "  Downloading schedule-1.2.2-py3-none-any.whl.metadata (3.8 kB)\n",
            "Requirement already satisfied: charset-normalizer<4,>=2 in /usr/local/lib/python3.10/dist-packages (from requests) (3.3.2)\n",
            "Requirement already satisfied: idna<4,>=2.5 in /usr/local/lib/python3.10/dist-packages (from requests) (3.7)\n",
            "Requirement already satisfied: urllib3<3,>=1.21.1 in /usr/local/lib/python3.10/dist-packages (from requests) (2.0.7)\n",
            "Requirement already satisfied: certifi>=2017.4.17 in /usr/local/lib/python3.10/dist-packages (from requests) (2024.7.4)\n",
            "Requirement already satisfied: botocore<1.35.0,>=1.34.154 in /usr/local/lib/python3.10/dist-packages (from boto3) (1.34.154)\n",
            "Requirement already satisfied: jmespath<2.0.0,>=0.7.1 in /usr/local/lib/python3.10/dist-packages (from boto3) (1.0.1)\n",
            "Requirement already satisfied: s3transfer<0.11.0,>=0.10.0 in /usr/local/lib/python3.10/dist-packages (from boto3) (0.10.2)\n",
            "Requirement already satisfied: py4j==0.10.9.7 in /usr/local/lib/python3.10/dist-packages (from pyspark) (0.10.9.7)\n",
            "Requirement already satisfied: python-dateutil<3.0.0,>=2.1 in /usr/local/lib/python3.10/dist-packages (from botocore<1.35.0,>=1.34.154->boto3) (2.8.2)\n",
            "Requirement already satisfied: six>=1.5 in /usr/local/lib/python3.10/dist-packages (from python-dateutil<3.0.0,>=2.1->botocore<1.35.0,>=1.34.154->boto3) (1.16.0)\n",
            "Downloading schedule-1.2.2-py3-none-any.whl (12 kB)\n",
            "Installing collected packages: schedule\n",
            "Successfully installed schedule-1.2.2\n"
          ]
        }
      ],
      "source": [
        "pip install requests boto3 pyspark schedule"
      ]
    },
    {
      "cell_type": "code",
      "source": [
        "import requests\n",
        "import boto3\n",
        "import json\n",
        "import time\n",
        "import schedule\n",
        "from datetime import datetime\n",
        "from pyspark.sql import SparkSession\n",
        "from pyspark.sql.types import StructType, StructField, IntegerType, StringType\n"
      ],
      "metadata": {
        "id": "cuKdXAkUt2Gh"
      },
      "execution_count": null,
      "outputs": []
    },
    {
      "cell_type": "code",
      "source": [
        "api_endpoint = 'https://api.mainnet-beta.solana.com'\n",
        "s3_bucket_name = 'solanatransactions'\n",
        "aws_access_key_id = 'XXXXXXXXXXXXXXXXXXXX'\n",
        "aws_secret_access_key = 'XXXXXXXXXXXXXXXXXXXXXXXXXXXXXX'\n",
        "aws_region = 'us-east-2'"
      ],
      "metadata": {
        "id": "mqqdEkzeucG5"
      },
      "execution_count": null,
      "outputs": []
    },
    {
      "cell_type": "code",
      "source": [
        "helius_api_endpoint = 'https://mainnet.helius-rpc.com/?api-key=e07245d6-faf6-4d44-9467-a5f9df5b42b1'\n",
        "helius_params =     {\n",
        "      \"jsonrpc\": \"2.0\",\n",
        "      \"id\": \"text\",\n",
        "      \"method\": \"getAsset\",\n",
        "      \"params\": {\n",
        "        \"id\":\"5SVG3T9CNQsm2kEwzbRq6hASqh1oGfjqTtLXYUibpump\"\n",
        "      }\n",
        "    }"
      ],
      "metadata": {
        "id": "tY4B4uN7VvRp"
      },
      "execution_count": null,
      "outputs": []
    },
    {
      "cell_type": "code",
      "source": [
        "wallets = [\"\"]"
      ],
      "metadata": {
        "id": "2kD7Xm2XfG3m"
      },
      "execution_count": null,
      "outputs": []
    },
    {
      "cell_type": "code",
      "source": [
        "parameters =   {\n",
        "    \"jsonrpc\": \"2.0\",\n",
        "    \"id\": 1,\n",
        "    \"method\": \"getSignaturesForAddress\",\n",
        "    \"params\": [\n",
        "      \"AVAZvHLR2PcWpDf8BXY4rVxNHYRBytycHkcB5z5QNXYm\",\n",
        "      {\n",
        "        \"limit\": 10\n",
        "      }\n",
        "    ]\n",
        "  }"
      ],
      "metadata": {
        "id": "_mbXCMevdgrW"
      },
      "execution_count": null,
      "outputs": []
    },
    {
      "cell_type": "code",
      "source": [
        "params2 = {\n",
        "    \"jsonrpc\": \"2.0\",\n",
        "    \"id\": 1,\n",
        "    \"method\": \"getTransaction\",\n",
        "    \"params\": [\n",
        "      \"4smXaYpz1fWGq62DLs8P8sRk51MeraBH13qFcRJLW7oDx87U5FcTqoUSRdU5XwdZhDUrrZC2EB77ja7XowpEpvGg\",\n",
        "      \"json\"\n",
        "    ]\n",
        "  }"
      ],
      "metadata": {
        "id": "E45Z-3g6bcWa"
      },
      "execution_count": null,
      "outputs": []
    },
    {
      "cell_type": "code",
      "source": [
        "signatures = {'' : []\n",
        "              }\n",
        "\n",
        "def get_signatures_data(wallet):\n",
        "    parameters['params'][0] = wallet\n",
        "    response = requests.post(api_endpoint,headers = {'Content-Type' : 'application/json'}, json=parameters)\n",
        "    data = json.loads(response.text)\n",
        "    for i in data['result']:\n",
        "        signatures[wallet].append(i['signature'])\n",
        "    return signatures\n"
      ],
      "metadata": {
        "id": "OuvVHeRFi7Jc"
      },
      "execution_count": null,
      "outputs": []
    },
    {
      "cell_type": "code",
      "source": [
        "def getTransactions(signatures, wallet):\n",
        "    for s in signatures[wallet]:\n",
        "      params2['params'][0] = s\n",
        "      response = requests.post(api_endpoint, headers = {'Content-Type' : 'application/json'},  json=params2)\n",
        "      time.sleep(10)\n",
        "      res = getTransactionsResults(response.text, wallet)\n",
        "      print(res) if res != None else None\n",
        "      fin.append(res) if res != None else None\n",
        "\n"
      ],
      "metadata": {
        "id": "IIgzrCrV6nED"
      },
      "execution_count": null,
      "outputs": []
    },
    {
      "cell_type": "code",
      "source": [
        "def post_data_to_s3(s3_bucket_name, file_name):\n",
        "    # Initialize S3 client\n",
        "    object_name = file_name\n",
        "\n",
        "    s3_client = boto3.client(\n",
        "        's3',\n",
        "        aws_access_key_id=aws_access_key_id,\n",
        "        aws_secret_access_key=aws_secret_access_key,\n",
        "        region_name=aws_region\n",
        "    )\n",
        "\n",
        "    s3_client.upload_file(file_name, s3_bucket_name, object_name)\n",
        "\n",
        "def create_file(filename, data):\n",
        "    with open(filename, 'w') as f:\n",
        "        f.write(data)"
      ],
      "metadata": {
        "id": "LCJFIWnpcgju"
      },
      "execution_count": null,
      "outputs": []
    },
    {
      "cell_type": "code",
      "source": [
        "def getDataFromMint(mint):\n",
        "    helius_params['params']['id'] = mint\n",
        "    response = requests.post(helius_api_endpoint, headers = {'Content-Type' : 'application/json'},  json=helius_params)\n",
        "    data = json.loads(response.text)\n",
        "    return data['result']"
      ],
      "metadata": {
        "id": "br2YrIL6WFhX"
      },
      "execution_count": null,
      "outputs": []
    },
    {
      "cell_type": "code",
      "source": [
        "def getTransactionsResults(transaction, wallet):\n",
        "    result = []\n",
        "    data = json.loads(transaction)\n",
        "    if 'result' in data:\n",
        "        if 'meta' in data['result']:\n",
        "            if 'postTokenBalances' in data['result']['meta'] and len(data['result']['meta']['postTokenBalances']) > 0:\n",
        "              mintData = getDataFromMint(data['result']['meta']['postTokenBalances'][0]['mint'])\n",
        "              for i in data['result']['meta']['postTokenBalances']:\n",
        "                   if 'token_info' in mintData:\n",
        "                    if 'price_info' in mintData['token_info']:\n",
        "                      if 'price_per_token' in mintData['token_info']['price_info']:\n",
        "                          result.append({\n",
        "                              'datetime': datetime.utcfromtimestamp(data['result']['blockTime']).strftime('%Y-%m-%d %H:%M:%S'),\n",
        "                              'owner': i['owner'],\n",
        "                              'name': mintData['content']['metadata']['name'],\n",
        "                              'amount': i['uiTokenAmount']['uiAmount'],\n",
        "                              'USD': mintData['token_info']['price_info']['price_per_token'],\n",
        "                              'amount_in_USD': (i['uiTokenAmount']['uiAmount']) * mintData['token_info']['price_info']['price_per_token']\n",
        "                          })\n",
        "    return result if len(result) > 0 else None\n"
      ],
      "metadata": {
        "id": "hx4DHl9qYVV7"
      },
      "execution_count": null,
      "outputs": []
    },
    {
      "cell_type": "code",
      "source": [
        "def read_files_from_s3(bucket_name):\n",
        "  s3 = boto3.client('s3', aws_access_key_id=aws_access_key_id, aws_secret_access_key=aws_secret_access_key, region_name=aws_region)\n",
        "  objects = s3.list_objects(Bucket=bucket_name)\n",
        "  for obj in objects['Contents']:\n",
        "    key = obj['Key']\n",
        "    response = s3.get_object(Bucket=bucket_name, Key=key)\n",
        "    file_content = response['Body'].read()\n",
        "    print(file_content)\n",
        "    return file_content"
      ],
      "metadata": {
        "id": "vtBWvPJsr4nS"
      },
      "execution_count": null,
      "outputs": []
    },
    {
      "cell_type": "code",
      "source": [
        "def json_to_df(json_data):\n",
        "    spark = SparkSession.builder.appName(\"JSON to DataFrame\").getOrCreate()\n",
        "    schema = StructType([\n",
        "    StructField('datatime1', StringType(), True),\n",
        "    StructField('owner1', StringType(), True),\n",
        "    StructField('name1', StringType(), True),\n",
        "    StructField('amount1', IntegerType(), True),\n",
        "    StructField('USD1', IntegerType(), True),\n",
        "    StructField('amount_in_USD1', IntegerType(), True),\n",
        "    StructField('datatime2', StringType(), True),\n",
        "    StructField('owner2', StringType(), True),\n",
        "    StructField('name2', StringType(), True),\n",
        "    StructField('amount2', IntegerType(), True),\n",
        "    StructField('USD2', IntegerType(), True),\n",
        "    StructField('amount_in_USD2', IntegerType(), True),\n",
        "    ])\n",
        "    df = spark.createDataFrame(json_data).schema(schema)\n",
        "    df.filter(df['amount_in_USD'] > 150)\n",
        "    df.show()\n",
        "    return df"
      ],
      "metadata": {
        "id": "bCxpWXRZ7Q7l"
      },
      "execution_count": null,
      "outputs": []
    },
    {
      "cell_type": "code",
      "source": [
        "fin = []\n",
        "def job():\n",
        "  for w in wallets:\n",
        "      get_signatures_data(w)\n",
        "      time.sleep(10)\n",
        "      getTransactions(signatures, w)\n",
        "  tim = datetime.today().strftime('%Y-%m-%d %H:%M:%S')\n",
        "  create_file(tim,json.dumps(fin))\n",
        "  post_data_to_s3(s3_bucket_name, tim)\n",
        "  signatures.clear()\n",
        "  fin.clear()\n",
        "\n",
        "schedule.every().hour.do(job)\n",
        "\n",
        "def run_scheduler():\n",
        "    while True:\n",
        "        schedule.run_pending()\n",
        "        time.sleep(1)\n",
        "\n",
        "run_scheduler()\n",
        "\n",
        "def job2():\n",
        "  dataset = read_files_from_s3(s3_bucket_name)\n",
        "  json_to_df(dataset)\n",
        "\n",
        "schedule.every().hour.do(job2)\n",
        "\n",
        "def run_scheduler1():\n",
        "    while True:\n",
        "        schedule.run_pending()\n",
        "        time.sleep(1)\n",
        "\n",
        "run_scheduler1()\n",
        "\n"
      ],
      "metadata": {
        "colab": {
          "base_uri": "https://localhost:8080/"
        },
        "id": "rTiNV09Xe6Pg",
        "outputId": "bcde6cbc-b26b-4f12-ca53-1459d1487c08"
      },
      "execution_count": null,
      "outputs": [
        {
          "output_type": "stream",
          "name": "stdout",
          "text": [
            "[{'datetime': '2024-08-05 22:22:22', 'owner': '9J9Dw4gZgDcSRJxtU1gvkFRt3bC8BTKSFCjzEFesQvLv', 'name': 'archie', 'amount': 2516512.628128, 'USD': 2.51551e-05, 'amount_in_USD': 63.30312681182265}, {'datetime': '2024-08-05 22:22:22', 'owner': 'AVAZvHLR2PcWpDf8BXY4rVxNHYRBytycHkcB5z5QNXYm', 'name': 'archie', 'amount': 1.0, 'USD': 2.51551e-05, 'amount_in_USD': 2.51551e-05}]\n",
            "[{'datetime': '2024-08-05 21:55:15', 'owner': 'AVAZvHLR2PcWpDf8BXY4rVxNHYRBytycHkcB5z5QNXYm', 'name': 'Pheonix', 'amount': 1000000.0, 'USD': 3.84638e-06, 'amount_in_USD': 3.8463799999999995}, {'datetime': '2024-08-05 21:55:15', 'owner': 'Hut54FGgWG3zLoTvAo4iiMW3AWNLhLcRHwPe6hGxtVEb', 'name': 'Pheonix', 'amount': 30252427.184466, 'USD': 3.84638e-06, 'amount_in_USD': 116.36233087378632}]\n",
            "[{'datetime': '2024-08-05 21:27:03', 'owner': 'AVAZvHLR2PcWpDf8BXY4rVxNHYRBytycHkcB5z5QNXYm', 'name': 'avoter: teh lost airboner', 'amount': 150784.8497949, 'USD': 1.1549962e-06, 'amount_in_USD': 0.17415592853068027}, {'datetime': '2024-08-05 21:27:03', 'owner': '5Qn2mAAxBGewDXmMh3huTWUtbVLaCSoY8mn1EYWDhd3p', 'name': 'avoter: teh lost airboner', 'amount': 3447146.75683199, 'USD': 1.1549962e-06, 'amount_in_USD': 3.9814414049832725}]\n",
            "[{'datetime': '2024-08-05 21:20:27', 'owner': 'AVAZvHLR2PcWpDf8BXY4rVxNHYRBytycHkcB5z5QNXYm', 'name': 'TOILET PAPER', 'amount': 20000.0, 'USD': 1.44604e-06, 'amount_in_USD': 0.0289208}, {'datetime': '2024-08-05 21:20:27', 'owner': 'HDzAw1hxcjcdXMnbju3krEhSP8T8HsZjfv89eEnbwVVK', 'name': 'TOILET PAPER', 'amount': 179427041.106777, 'USD': 1.44604e-06, 'amount_in_USD': 259.45867852204384}]\n",
            "[{'datetime': '2024-08-05 21:10:20', 'owner': '2bXvCTs3Gudwe1qLyLvs3QBHXrN1VcM5jZ1fFqXQiheP', 'name': 'WAT', 'amount': 8686140.066091, 'USD': 4.42574e-06, 'amount_in_USD': 38.44259753610158}, {'datetime': '2024-08-05 21:10:20', 'owner': 'AVAZvHLR2PcWpDf8BXY4rVxNHYRBytycHkcB5z5QNXYm', 'name': 'WAT', 'amount': 100000.0, 'USD': 4.42574e-06, 'amount_in_USD': 0.442574}]\n",
            "[{'datetime': '2024-08-05 20:42:54', 'owner': 'AVAZvHLR2PcWpDf8BXY4rVxNHYRBytycHkcB5z5QNXYm', 'name': 'World War Jew', 'amount': 25704.8497994, 'USD': 4.8055488e-05, 'amount_in_USD': 1.2352591010768692}, {'datetime': '2024-08-05 20:42:54', 'owner': 'Fsqos2heNtvNQgKbdPKGQhAD1hs8u3KEXYhBcnjdx7v1', 'name': 'World War Jew', 'amount': 25869509.11157044, 'USD': 4.8055488e-05, 'amount_in_USD': 1243.171884676964}]\n",
            "[{'datetime': '2024-08-05 20:41:39', 'owner': 'AVAZvHLR2PcWpDf8BXY4rVxNHYRBytycHkcB5z5QNXYm', 'name': 'JUMP', 'amount': 1077.0, 'USD': 2.3649384e-06, 'amount_in_USD': 0.0025470386568}, {'datetime': '2024-08-05 20:41:39', 'owner': 'C6fPx4jt9R9Uge5En7cLGQteLpkoqZDrLwuoje4wDQA6', 'name': 'JUMP', 'amount': 2919407.122896321, 'USD': 2.3649384e-06, 'amount_in_USD': 6.904218010171029}]\n",
            "[{'datetime': '2024-08-05 22:22:22', 'owner': '9J9Dw4gZgDcSRJxtU1gvkFRt3bC8BTKSFCjzEFesQvLv', 'name': 'archie', 'amount': 2516512.628128, 'USD': 2.50255e-05, 'amount_in_USD': 62.97698677521726}, {'datetime': '2024-08-05 22:22:22', 'owner': 'AVAZvHLR2PcWpDf8BXY4rVxNHYRBytycHkcB5z5QNXYm', 'name': 'archie', 'amount': 1.0, 'USD': 2.50255e-05, 'amount_in_USD': 2.50255e-05}]\n",
            "[{'datetime': '2024-08-05 21:55:15', 'owner': 'AVAZvHLR2PcWpDf8BXY4rVxNHYRBytycHkcB5z5QNXYm', 'name': 'Pheonix', 'amount': 1000000.0, 'USD': 3.84638e-06, 'amount_in_USD': 3.8463799999999995}, {'datetime': '2024-08-05 21:55:15', 'owner': 'Hut54FGgWG3zLoTvAo4iiMW3AWNLhLcRHwPe6hGxtVEb', 'name': 'Pheonix', 'amount': 30252427.184466, 'USD': 3.84638e-06, 'amount_in_USD': 116.36233087378632}]\n",
            "[{'datetime': '2024-08-05 21:27:03', 'owner': 'AVAZvHLR2PcWpDf8BXY4rVxNHYRBytycHkcB5z5QNXYm', 'name': 'avoter: teh lost airboner', 'amount': 150784.8497949, 'USD': 1.1551311e-06, 'amount_in_USD': 0.17417626940691758}, {'datetime': '2024-08-05 21:27:03', 'owner': '5Qn2mAAxBGewDXmMh3huTWUtbVLaCSoY8mn1EYWDhd3p', 'name': 'avoter: teh lost airboner', 'amount': 3447146.75683199, 'USD': 1.1551311e-06, 'amount_in_USD': 3.9819064250807688}]\n",
            "[{'datetime': '2024-08-05 21:20:27', 'owner': 'AVAZvHLR2PcWpDf8BXY4rVxNHYRBytycHkcB5z5QNXYm', 'name': 'TOILET PAPER', 'amount': 20000.0, 'USD': 1.44652e-06, 'amount_in_USD': 0.0289304}, {'datetime': '2024-08-05 21:20:27', 'owner': 'HDzAw1hxcjcdXMnbju3krEhSP8T8HsZjfv89eEnbwVVK', 'name': 'TOILET PAPER', 'amount': 179427041.106777, 'USD': 1.44652e-06, 'amount_in_USD': 259.54480350177505}]\n",
            "[{'datetime': '2024-08-05 21:10:20', 'owner': '2bXvCTs3Gudwe1qLyLvs3QBHXrN1VcM5jZ1fFqXQiheP', 'name': 'WAT', 'amount': 8686140.066091, 'USD': 4.42994e-06, 'amount_in_USD': 38.479079324379164}, {'datetime': '2024-08-05 21:10:20', 'owner': 'AVAZvHLR2PcWpDf8BXY4rVxNHYRBytycHkcB5z5QNXYm', 'name': 'WAT', 'amount': 100000.0, 'USD': 4.42994e-06, 'amount_in_USD': 0.442994}]\n",
            "[{'datetime': '2024-08-05 20:42:54', 'owner': 'AVAZvHLR2PcWpDf8BXY4rVxNHYRBytycHkcB5z5QNXYm', 'name': 'World War Jew', 'amount': 25704.8497994, 'USD': 4.804317e-05, 'amount_in_USD': 1.23494246873704}, {'datetime': '2024-08-05 20:42:54', 'owner': 'Fsqos2heNtvNQgKbdPKGQhAD1hs8u3KEXYhBcnjdx7v1', 'name': 'World War Jew', 'amount': 25869509.11157044, 'USD': 4.804317e-05, 'amount_in_USD': 1242.8532240637276}]\n",
            "[{'datetime': '2024-08-05 20:41:39', 'owner': 'AVAZvHLR2PcWpDf8BXY4rVxNHYRBytycHkcB5z5QNXYm', 'name': 'JUMP', 'amount': 1077.0, 'USD': 2.3673429e-06, 'amount_in_USD': 0.0025496283033}, {'datetime': '2024-08-05 20:41:39', 'owner': 'C6fPx4jt9R9Uge5En7cLGQteLpkoqZDrLwuoje4wDQA6', 'name': 'JUMP', 'amount': 2919407.122896321, 'USD': 2.3673429e-06, 'amount_in_USD': 6.911237724598033}]\n",
            "[[{'datetime': '2024-08-05 22:22:22', 'owner': '9J9Dw4gZgDcSRJxtU1gvkFRt3bC8BTKSFCjzEFesQvLv', 'name': 'archie', 'amount': 2516512.628128, 'USD': 2.51551e-05, 'amount_in_USD': 63.30312681182265}, {'datetime': '2024-08-05 22:22:22', 'owner': 'AVAZvHLR2PcWpDf8BXY4rVxNHYRBytycHkcB5z5QNXYm', 'name': 'archie', 'amount': 1.0, 'USD': 2.51551e-05, 'amount_in_USD': 2.51551e-05}], [{'datetime': '2024-08-05 21:55:15', 'owner': 'AVAZvHLR2PcWpDf8BXY4rVxNHYRBytycHkcB5z5QNXYm', 'name': 'Pheonix', 'amount': 1000000.0, 'USD': 3.84638e-06, 'amount_in_USD': 3.8463799999999995}, {'datetime': '2024-08-05 21:55:15', 'owner': 'Hut54FGgWG3zLoTvAo4iiMW3AWNLhLcRHwPe6hGxtVEb', 'name': 'Pheonix', 'amount': 30252427.184466, 'USD': 3.84638e-06, 'amount_in_USD': 116.36233087378632}], [{'datetime': '2024-08-05 21:27:03', 'owner': 'AVAZvHLR2PcWpDf8BXY4rVxNHYRBytycHkcB5z5QNXYm', 'name': 'avoter: teh lost airboner', 'amount': 150784.8497949, 'USD': 1.1549962e-06, 'amount_in_USD': 0.17415592853068027}, {'datetime': '2024-08-05 21:27:03', 'owner': '5Qn2mAAxBGewDXmMh3huTWUtbVLaCSoY8mn1EYWDhd3p', 'name': 'avoter: teh lost airboner', 'amount': 3447146.75683199, 'USD': 1.1549962e-06, 'amount_in_USD': 3.9814414049832725}], [{'datetime': '2024-08-05 21:20:27', 'owner': 'AVAZvHLR2PcWpDf8BXY4rVxNHYRBytycHkcB5z5QNXYm', 'name': 'TOILET PAPER', 'amount': 20000.0, 'USD': 1.44604e-06, 'amount_in_USD': 0.0289208}, {'datetime': '2024-08-05 21:20:27', 'owner': 'HDzAw1hxcjcdXMnbju3krEhSP8T8HsZjfv89eEnbwVVK', 'name': 'TOILET PAPER', 'amount': 179427041.106777, 'USD': 1.44604e-06, 'amount_in_USD': 259.45867852204384}], [{'datetime': '2024-08-05 21:10:20', 'owner': '2bXvCTs3Gudwe1qLyLvs3QBHXrN1VcM5jZ1fFqXQiheP', 'name': 'WAT', 'amount': 8686140.066091, 'USD': 4.42574e-06, 'amount_in_USD': 38.44259753610158}, {'datetime': '2024-08-05 21:10:20', 'owner': 'AVAZvHLR2PcWpDf8BXY4rVxNHYRBytycHkcB5z5QNXYm', 'name': 'WAT', 'amount': 100000.0, 'USD': 4.42574e-06, 'amount_in_USD': 0.442574}], [{'datetime': '2024-08-05 20:42:54', 'owner': 'AVAZvHLR2PcWpDf8BXY4rVxNHYRBytycHkcB5z5QNXYm', 'name': 'World War Jew', 'amount': 25704.8497994, 'USD': 4.8055488e-05, 'amount_in_USD': 1.2352591010768692}, {'datetime': '2024-08-05 20:42:54', 'owner': 'Fsqos2heNtvNQgKbdPKGQhAD1hs8u3KEXYhBcnjdx7v1', 'name': 'World War Jew', 'amount': 25869509.11157044, 'USD': 4.8055488e-05, 'amount_in_USD': 1243.171884676964}], [{'datetime': '2024-08-05 20:41:39', 'owner': 'AVAZvHLR2PcWpDf8BXY4rVxNHYRBytycHkcB5z5QNXYm', 'name': 'JUMP', 'amount': 1077.0, 'USD': 2.3649384e-06, 'amount_in_USD': 0.0025470386568}, {'datetime': '2024-08-05 20:41:39', 'owner': 'C6fPx4jt9R9Uge5En7cLGQteLpkoqZDrLwuoje4wDQA6', 'name': 'JUMP', 'amount': 2919407.122896321, 'USD': 2.3649384e-06, 'amount_in_USD': 6.904218010171029}], [{'datetime': '2024-08-05 22:22:22', 'owner': '9J9Dw4gZgDcSRJxtU1gvkFRt3bC8BTKSFCjzEFesQvLv', 'name': 'archie', 'amount': 2516512.628128, 'USD': 2.50255e-05, 'amount_in_USD': 62.97698677521726}, {'datetime': '2024-08-05 22:22:22', 'owner': 'AVAZvHLR2PcWpDf8BXY4rVxNHYRBytycHkcB5z5QNXYm', 'name': 'archie', 'amount': 1.0, 'USD': 2.50255e-05, 'amount_in_USD': 2.50255e-05}], [{'datetime': '2024-08-05 21:55:15', 'owner': 'AVAZvHLR2PcWpDf8BXY4rVxNHYRBytycHkcB5z5QNXYm', 'name': 'Pheonix', 'amount': 1000000.0, 'USD': 3.84638e-06, 'amount_in_USD': 3.8463799999999995}, {'datetime': '2024-08-05 21:55:15', 'owner': 'Hut54FGgWG3zLoTvAo4iiMW3AWNLhLcRHwPe6hGxtVEb', 'name': 'Pheonix', 'amount': 30252427.184466, 'USD': 3.84638e-06, 'amount_in_USD': 116.36233087378632}], [{'datetime': '2024-08-05 21:27:03', 'owner': 'AVAZvHLR2PcWpDf8BXY4rVxNHYRBytycHkcB5z5QNXYm', 'name': 'avoter: teh lost airboner', 'amount': 150784.8497949, 'USD': 1.1551311e-06, 'amount_in_USD': 0.17417626940691758}, {'datetime': '2024-08-05 21:27:03', 'owner': '5Qn2mAAxBGewDXmMh3huTWUtbVLaCSoY8mn1EYWDhd3p', 'name': 'avoter: teh lost airboner', 'amount': 3447146.75683199, 'USD': 1.1551311e-06, 'amount_in_USD': 3.9819064250807688}], [{'datetime': '2024-08-05 21:20:27', 'owner': 'AVAZvHLR2PcWpDf8BXY4rVxNHYRBytycHkcB5z5QNXYm', 'name': 'TOILET PAPER', 'amount': 20000.0, 'USD': 1.44652e-06, 'amount_in_USD': 0.0289304}, {'datetime': '2024-08-05 21:20:27', 'owner': 'HDzAw1hxcjcdXMnbju3krEhSP8T8HsZjfv89eEnbwVVK', 'name': 'TOILET PAPER', 'amount': 179427041.106777, 'USD': 1.44652e-06, 'amount_in_USD': 259.54480350177505}], [{'datetime': '2024-08-05 21:10:20', 'owner': '2bXvCTs3Gudwe1qLyLvs3QBHXrN1VcM5jZ1fFqXQiheP', 'name': 'WAT', 'amount': 8686140.066091, 'USD': 4.42994e-06, 'amount_in_USD': 38.479079324379164}, {'datetime': '2024-08-05 21:10:20', 'owner': 'AVAZvHLR2PcWpDf8BXY4rVxNHYRBytycHkcB5z5QNXYm', 'name': 'WAT', 'amount': 100000.0, 'USD': 4.42994e-06, 'amount_in_USD': 0.442994}], [{'datetime': '2024-08-05 20:42:54', 'owner': 'AVAZvHLR2PcWpDf8BXY4rVxNHYRBytycHkcB5z5QNXYm', 'name': 'World War Jew', 'amount': 25704.8497994, 'USD': 4.804317e-05, 'amount_in_USD': 1.23494246873704}, {'datetime': '2024-08-05 20:42:54', 'owner': 'Fsqos2heNtvNQgKbdPKGQhAD1hs8u3KEXYhBcnjdx7v1', 'name': 'World War Jew', 'amount': 25869509.11157044, 'USD': 4.804317e-05, 'amount_in_USD': 1242.8532240637276}], [{'datetime': '2024-08-05 20:41:39', 'owner': 'AVAZvHLR2PcWpDf8BXY4rVxNHYRBytycHkcB5z5QNXYm', 'name': 'JUMP', 'amount': 1077.0, 'USD': 2.3673429e-06, 'amount_in_USD': 0.0025496283033}, {'datetime': '2024-08-05 20:41:39', 'owner': 'C6fPx4jt9R9Uge5En7cLGQteLpkoqZDrLwuoje4wDQA6', 'name': 'JUMP', 'amount': 2919407.122896321, 'USD': 2.3673429e-06, 'amount_in_USD': 6.911237724598033}]]\n",
            "b'[[{\"datetime\": \"2024-08-04 06:29:28\", \"owner\": \"4dMnCg87hZxVeThmYdtrrxXrycD39gFEnY36NhUYNJkj\", \"name\": \"KING SUGAR GLIDER\", \"amount\": 2.0, \"USD\": 7.52398e-05, \"amount_in_USD\": 0.0001504796}, {\"datetime\": \"2024-08-04 06:29:28\", \"owner\": \"62oyWZJFu5cHnzub8rKSkfzWcgsMjbe5uFQhECw1swmd\", \"name\": \"KING SUGAR GLIDER\", \"amount\": 2190491.193875, \"USD\": 7.52398e-05, \"amount_in_USD\": 164.81211932891622}, {\"datetime\": \"2024-08-04 06:29:28\", \"owner\": \"A77HErqtfN1hLLpvZ9pCtu66FEtM8BveoaKbbMoZ4RiR\", \"name\": \"KING SUGAR GLIDER\", \"amount\": 3.0, \"USD\": 7.52398e-05, \"amount_in_USD\": 0.0002257194}, {\"datetime\": \"2024-08-04 06:29:28\", \"owner\": \"3JxpGg14s4XFQ4dcMgP82jaoPCSPtKFou12igexUrqxG\", \"name\": \"KING SUGAR GLIDER\", \"amount\": 2.0, \"USD\": 7.52398e-05, \"amount_in_USD\": 0.0001504796}, {\"datetime\": \"2024-08-04 06:29:28\", \"owner\": \"ddbeMupQ1dFs63LpTSrZ8EnFyqvPkNNjdg1EQGqZDRn\", \"name\": \"KING SUGAR GLIDER\", \"amount\": 4.0, \"USD\": 7.52398e-05, \"amount_in_USD\": 0.0003009592}, {\"datetime\": \"2024-08-04 06:29:28\", \"owner\": \"AVAZvHLR2PcWpDf8BXY4rVxNHYRBytycHkcB5z5QNXYm\", \"name\": \"KING SUGAR GLIDER\", \"amount\": 4.0, \"USD\": 7.52398e-05, \"amount_in_USD\": 0.0003009592}], [{\"datetime\": \"2024-08-04 06:27:30\", \"owner\": \"AVAZvHLR2PcWpDf8BXY4rVxNHYRBytycHkcB5z5QNXYm\", \"name\": \"HUNG\", \"amount\": 100000.0, \"USD\": 2.14894e-05, \"amount_in_USD\": 2.14894}, {\"datetime\": \"2024-08-04 06:27:30\", \"owner\": \"DKBovgGMC31TB8eDbChnUB8YqUXs7aZmkrDKPbZ72GDy\", \"name\": \"HUNG\", \"amount\": 5911855.34618, \"USD\": 2.14894e-05, \"amount_in_USD\": 127.04222427620051}], [{\"datetime\": \"2024-08-04 05:47:27\", \"owner\": \"9kTfjhaXPUDJURZRRSrJ9AAN3R75aSqhokaG4gvomquu\", \"name\": \"CKNCPE\", \"amount\": 56416302.101331, \"USD\": 4.0721e-06, \"amount_in_USD\": 229.73282378683}, {\"datetime\": \"2024-08-04 05:47:27\", \"owner\": \"AVAZvHLR2PcWpDf8BXY4rVxNHYRBytycHkcB5z5QNXYm\", \"name\": \"CKNCPE\", \"amount\": 12234.186333, \"USD\": 4.0721e-06, \"amount_in_USD\": 0.049818830166609304}], [{\"datetime\": \"2024-08-04 05:25:52\", \"owner\": \"9kTfjhaXPUDJURZRRSrJ9AAN3R75aSqhokaG4gvomquu\", \"name\": \"Oodles\", \"amount\": 56023559.797732, \"USD\": 4.06915e-06, \"amount_in_USD\": 227.96826835094117}, {\"datetime\": \"2024-08-04 05:25:52\", \"owner\": \"AVAZvHLR2PcWpDf8BXY4rVxNHYRBytycHkcB5z5QNXYm\", \"name\": \"Oodles\", \"amount\": 11791.688492, \"USD\": 4.06915e-06, \"amount_in_USD\": 0.04798214922722179}], [{\"datetime\": \"2024-08-04 05:12:54\", \"owner\": \"8RJ6a58vh62EbGHLtDrBo9bSrNMG3sJqFWDppz5JyMKf\", \"name\": \"JUUL\", \"amount\": 1776468.0, \"USD\": 4.21371e-06, \"amount_in_USD\": 7.48552097628}, {\"datetime\": \"2024-08-04 05:12:54\", \"owner\": \"AVAZvHLR2PcWpDf8BXY4rVxNHYRBytycHkcB5z5QNXYm\", \"name\": \"JUUL\", \"amount\": 888.0, \"USD\": 4.21371e-06, \"amount_in_USD\": 0.00374177448}], [{\"datetime\": \"2024-08-04 04:58:22\", \"owner\": \"9kTfjhaXPUDJURZRRSrJ9AAN3R75aSqhokaG4gvomquu\", \"name\": \"POOKIE: The Plastic Penguin\", \"amount\": 38090341.095238, \"USD\": 4.08301e-06, \"amount_in_USD\": 155.52324359526773}, {\"datetime\": \"2024-08-04 04:58:22\", \"owner\": \"AVAZvHLR2PcWpDf8BXY4rVxNHYRBytycHkcB5z5QNXYm\", \"name\": \"POOKIE: The Plastic Penguin\", \"amount\": 8888.0, \"USD\": 4.08301e-06, \"amount_in_USD\": 0.036289792880000005}], null, [{\"datetime\": \"2024-08-04 04:14:34\", \"owner\": \"AVAZvHLR2PcWpDf8BXY4rVxNHYRBytycHkcB5z5QNXYm\", \"name\": \"RUG\", \"amount\": 10000.0, \"USD\": 4.10564e-06, \"amount_in_USD\": 0.04105640000000001}, {\"datetime\": \"2024-08-04 04:14:34\", \"owner\": \"9kTfjhaXPUDJURZRRSrJ9AAN3R75aSqhokaG4gvomquu\", \"name\": \"RUG\", \"amount\": 52290707.626014, \"USD\": 4.10564e-06, \"amount_in_USD\": 214.68682085766815}], [{\"datetime\": \"2024-08-04 03:10:27\", \"owner\": \"AVAZvHLR2PcWpDf8BXY4rVxNHYRBytycHkcB5z5QNXYm\", \"name\": \"ber\", \"amount\": 1000.0, \"USD\": 0.000209936, \"amount_in_USD\": 0.209936}, {\"datetime\": \"2024-08-04 03:10:27\", \"owner\": \"5j9LVZbCVB9ATtB7rfCwanptCeNLMWzZYFqCFSqCL3f1\", \"name\": \"ber\", \"amount\": 1138468.156546, \"USD\": 0.000209936, \"amount_in_USD\": 239.00545091264104}], null]'\n"
          ]
        }
      ]
    }
  ]
}